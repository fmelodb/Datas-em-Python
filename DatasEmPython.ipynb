{
 "cells": [
  {
   "cell_type": "code",
   "execution_count": 1,
   "metadata": {},
   "outputs": [
    {
     "name": "stdout",
     "output_type": "stream",
     "text": [
      "28/5/2019:15:39:41 +0000\n"
     ]
    }
   ],
   "source": [
    "import csv\n",
    "with open('transactions.csv') as file:\n",
    "    reader = csv.reader(file, delimiter=',')\n",
    "    for row in reader:\n",
    "        transaction_date = row[0]\n",
    "        break\n",
    "print(transaction_date)"
   ]
  },
  {
   "cell_type": "markdown",
   "metadata": {},
   "source": [
    "<B>DATETIME</B>"
   ]
  },
  {
   "cell_type": "code",
   "execution_count": 2,
   "metadata": {},
   "outputs": [],
   "source": [
    "import datetime as dt"
   ]
  },
  {
   "cell_type": "code",
   "execution_count": 3,
   "metadata": {},
   "outputs": [
    {
     "name": "stdout",
     "output_type": "stream",
     "text": [
      "2019-05-28 15:39:41\n"
     ]
    }
   ],
   "source": [
    "# Formatação\n",
    "formatted_date = dt.datetime.strptime(transaction_date[:-6], '%d/%m/%Y:%H:%M:%S')\n",
    "print(formatted_date)"
   ]
  },
  {
   "cell_type": "code",
   "execution_count": 4,
   "metadata": {},
   "outputs": [
    {
     "name": "stdout",
     "output_type": "stream",
     "text": [
      "28/05/2019 12:39:41 -03\n"
     ]
    }
   ],
   "source": [
    "# Colocando Timezone\n",
    "import pytz\n",
    "formatted_date_tz = formatted_date.replace(tzinfo=pytz.UTC)\n",
    "my_timezone = pytz.timezone('America/Sao_Paulo')\n",
    "local_date = formatted_date_tz.astimezone(my_timezone)\n",
    "print(local_date.strftime('%d/%m/%Y %H:%M:%S %Z'))"
   ]
  },
  {
   "cell_type": "code",
   "execution_count": 5,
   "metadata": {},
   "outputs": [
    {
     "name": "stdout",
     "output_type": "stream",
     "text": [
      "2019-05-28 12:00:00-03:00\n"
     ]
    }
   ],
   "source": [
    "# Arredonda por hora\n",
    "rounded_date = local_date.replace(minute=0, second=0, microsecond=0)\n",
    "print(rounded_date)"
   ]
  },
  {
   "cell_type": "code",
   "execution_count": 6,
   "metadata": {},
   "outputs": [
    {
     "name": "stdout",
     "output_type": "stream",
     "text": [
      "2020-05-21 02:28:04.230032\n"
     ]
    }
   ],
   "source": [
    "# Comparando datas\n",
    "hoje = dt.datetime.now()\n",
    "print(hoje)"
   ]
  },
  {
   "cell_type": "code",
   "execution_count": 7,
   "metadata": {},
   "outputs": [
    {
     "name": "stdout",
     "output_type": "stream",
     "text": [
      "2020-05-14 02:28:22.773856\n"
     ]
    }
   ],
   "source": [
    "semana_passada = dt.datetime.now() - dt.timedelta(days=7)\n",
    "print(semana_passada)"
   ]
  },
  {
   "cell_type": "code",
   "execution_count": 8,
   "metadata": {},
   "outputs": [
    {
     "data": {
      "text/plain": [
       "[datetime.datetime(2020, 5, 21, 2, 28, 4),\n",
       " datetime.datetime(2020, 5, 28, 2, 28, 4),\n",
       " datetime.datetime(2020, 6, 4, 2, 28, 4),\n",
       " datetime.datetime(2020, 6, 11, 2, 28, 4)]"
      ]
     },
     "execution_count": 8,
     "metadata": {},
     "output_type": "execute_result"
    }
   ],
   "source": [
    "# Criando faixas de datas\n",
    "from dateutil import rrule\n",
    "\n",
    "list(rrule.rrule(rrule.WEEKLY, dtstart=hoje, count=4))"
   ]
  },
  {
   "cell_type": "markdown",
   "metadata": {},
   "source": [
    "<B>PENDULUM</B>"
   ]
  },
  {
   "cell_type": "code",
   "execution_count": 9,
   "metadata": {},
   "outputs": [
    {
     "name": "stdout",
     "output_type": "stream",
     "text": [
      "28/5/2019:15:39:41 +0000\n"
     ]
    }
   ],
   "source": [
    "print(transaction_date)"
   ]
  },
  {
   "cell_type": "code",
   "execution_count": 10,
   "metadata": {},
   "outputs": [],
   "source": [
    "import pendulum as pl"
   ]
  },
  {
   "cell_type": "code",
   "execution_count": 11,
   "metadata": {},
   "outputs": [
    {
     "name": "stdout",
     "output_type": "stream",
     "text": [
      "2019-05-28T15:39:41+00:00\n"
     ]
    }
   ],
   "source": [
    "# Formatação\n",
    "trans_date = pl.from_format(transaction_date[:-6], 'DD/MM/YYYY:H:m:s')\n",
    "print(trans_date)"
   ]
  },
  {
   "cell_type": "code",
   "execution_count": 12,
   "metadata": {},
   "outputs": [
    {
     "name": "stdout",
     "output_type": "stream",
     "text": [
      "2019-05-28T12:39:41-03:00\n"
     ]
    }
   ],
   "source": [
    "# Timezone\n",
    "local = trans_date.in_timezone('America/Sao_Paulo')\n",
    "print(local)"
   ]
  },
  {
   "cell_type": "code",
   "execution_count": 13,
   "metadata": {},
   "outputs": [
    {
     "name": "stdout",
     "output_type": "stream",
     "text": [
      "2019-05-28T12:00:00-03:00\n"
     ]
    }
   ],
   "source": [
    "# Arredonda por hora\n",
    "rounded = local.start_of('hour')\n",
    "print(rounded)"
   ]
  },
  {
   "cell_type": "code",
   "execution_count": 14,
   "metadata": {},
   "outputs": [
    {
     "name": "stdout",
     "output_type": "stream",
     "text": [
      "2019-05-27T00:00:00-03:00\n"
     ]
    }
   ],
   "source": [
    "# Comparando datas \n",
    "monday = local.start_of('week')\n",
    "print(monday)"
   ]
  },
  {
   "cell_type": "code",
   "execution_count": 15,
   "metadata": {},
   "outputs": [
    {
     "name": "stdout",
     "output_type": "stream",
     "text": [
      "2019-06-03T00:00:00-03:00\n"
     ]
    }
   ],
   "source": [
    "next_monday = monday.add(weeks=1)\n",
    "print(next_monday)"
   ]
  },
  {
   "cell_type": "code",
   "execution_count": 17,
   "metadata": {},
   "outputs": [
    {
     "name": "stdout",
     "output_type": "stream",
     "text": [
      "2020-01-01T00:00:00+00:00\n",
      "2020-01-02T00:00:00+00:00\n",
      "2020-01-03T00:00:00+00:00\n",
      "2020-01-04T00:00:00+00:00\n",
      "2020-01-05T00:00:00+00:00\n",
      "2020-01-06T00:00:00+00:00\n",
      "2020-01-07T00:00:00+00:00\n",
      "2020-01-08T00:00:00+00:00\n",
      "2020-01-09T00:00:00+00:00\n",
      "2020-01-10T00:00:00+00:00\n",
      "2020-01-11T00:00:00+00:00\n",
      "2020-01-12T00:00:00+00:00\n",
      "2020-01-13T00:00:00+00:00\n",
      "2020-01-14T00:00:00+00:00\n",
      "2020-01-15T00:00:00+00:00\n"
     ]
    }
   ],
   "source": [
    "# Faixas de datas\n",
    "start_day = pl.datetime(2020, 1, 1)\n",
    "end_day   = pl.datetime(2020, 1, 15)\n",
    "period    = pl.period(start_day, end_day)\n",
    "for week in period.range('days'):\n",
    "    print(week)"
   ]
  },
  {
   "cell_type": "code",
   "execution_count": 18,
   "metadata": {},
   "outputs": [
    {
     "name": "stdout",
     "output_type": "stream",
     "text": [
      "14\n"
     ]
    }
   ],
   "source": [
    "print(period.days)"
   ]
  },
  {
   "cell_type": "markdown",
   "metadata": {},
   "source": [
    "<B>PANDAS</B>"
   ]
  },
  {
   "cell_type": "code",
   "execution_count": 19,
   "metadata": {},
   "outputs": [],
   "source": [
    "import pandas as pd\n",
    "import warnings\n",
    "warnings.simplefilter(action='ignore')\n",
    "\n",
    "df = pd.read_csv('transactions.csv')\n",
    "df.columns = ['transaction_date', 'transaction_operation']"
   ]
  },
  {
   "cell_type": "code",
   "execution_count": 20,
   "metadata": {},
   "outputs": [
    {
     "data": {
      "text/html": [
       "<div>\n",
       "<style scoped>\n",
       "    .dataframe tbody tr th:only-of-type {\n",
       "        vertical-align: middle;\n",
       "    }\n",
       "\n",
       "    .dataframe tbody tr th {\n",
       "        vertical-align: top;\n",
       "    }\n",
       "\n",
       "    .dataframe thead th {\n",
       "        text-align: right;\n",
       "    }\n",
       "</style>\n",
       "<table border=\"1\" class=\"dataframe\">\n",
       "  <thead>\n",
       "    <tr style=\"text-align: right;\">\n",
       "      <th></th>\n",
       "      <th>transaction_date</th>\n",
       "      <th>transaction_operation</th>\n",
       "    </tr>\n",
       "  </thead>\n",
       "  <tbody>\n",
       "    <tr>\n",
       "      <th>0</th>\n",
       "      <td>1/12/2019:21:9:43 +0000</td>\n",
       "      <td>update</td>\n",
       "    </tr>\n",
       "    <tr>\n",
       "      <th>1</th>\n",
       "      <td>17/4/2019:2:8:43 +0000</td>\n",
       "      <td>insert</td>\n",
       "    </tr>\n",
       "    <tr>\n",
       "      <th>2</th>\n",
       "      <td>14/4/2019:5:51:49 +0000</td>\n",
       "      <td>select</td>\n",
       "    </tr>\n",
       "    <tr>\n",
       "      <th>3</th>\n",
       "      <td>17/3/2019:23:28:7 +0000</td>\n",
       "      <td>insert</td>\n",
       "    </tr>\n",
       "    <tr>\n",
       "      <th>4</th>\n",
       "      <td>19/3/2019:7:56:27 +0000</td>\n",
       "      <td>delete</td>\n",
       "    </tr>\n",
       "  </tbody>\n",
       "</table>\n",
       "</div>"
      ],
      "text/plain": [
       "          transaction_date transaction_operation\n",
       "0  1/12/2019:21:9:43 +0000                update\n",
       "1   17/4/2019:2:8:43 +0000                insert\n",
       "2  14/4/2019:5:51:49 +0000                select\n",
       "3  17/3/2019:23:28:7 +0000                insert\n",
       "4  19/3/2019:7:56:27 +0000                delete"
      ]
     },
     "execution_count": 20,
     "metadata": {},
     "output_type": "execute_result"
    }
   ],
   "source": [
    "df.head()"
   ]
  },
  {
   "cell_type": "code",
   "execution_count": 21,
   "metadata": {},
   "outputs": [
    {
     "data": {
      "text/plain": [
       "transaction_date         object\n",
       "transaction_operation    object\n",
       "dtype: object"
      ]
     },
     "execution_count": 21,
     "metadata": {},
     "output_type": "execute_result"
    }
   ],
   "source": [
    "df.dtypes"
   ]
  },
  {
   "cell_type": "code",
   "execution_count": 22,
   "metadata": {},
   "outputs": [],
   "source": [
    "# Formatação\n",
    "df['transaction_date'] = pd.to_datetime(df['transaction_date'], \n",
    "                                        format='%d/%m/%Y:%H:%M:%S +0000',\n",
    "                                        utc=True)"
   ]
  },
  {
   "cell_type": "code",
   "execution_count": 23,
   "metadata": {},
   "outputs": [
    {
     "data": {
      "text/plain": [
       "transaction_date         datetime64[ns, UTC]\n",
       "transaction_operation                 object\n",
       "dtype: object"
      ]
     },
     "execution_count": 23,
     "metadata": {},
     "output_type": "execute_result"
    }
   ],
   "source": [
    "df.dtypes"
   ]
  },
  {
   "cell_type": "code",
   "execution_count": 24,
   "metadata": {},
   "outputs": [],
   "source": [
    "df.set_index('transaction_date', inplace=True)"
   ]
  },
  {
   "cell_type": "code",
   "execution_count": 25,
   "metadata": {},
   "outputs": [],
   "source": [
    "# Timezone\n",
    "df.index = df.index.tz_convert('America/Sao_Paulo')"
   ]
  },
  {
   "cell_type": "code",
   "execution_count": 26,
   "metadata": {},
   "outputs": [
    {
     "data": {
      "text/html": [
       "<div>\n",
       "<style scoped>\n",
       "    .dataframe tbody tr th:only-of-type {\n",
       "        vertical-align: middle;\n",
       "    }\n",
       "\n",
       "    .dataframe tbody tr th {\n",
       "        vertical-align: top;\n",
       "    }\n",
       "\n",
       "    .dataframe thead th {\n",
       "        text-align: right;\n",
       "    }\n",
       "</style>\n",
       "<table border=\"1\" class=\"dataframe\">\n",
       "  <thead>\n",
       "    <tr style=\"text-align: right;\">\n",
       "      <th></th>\n",
       "      <th>transaction_operation</th>\n",
       "    </tr>\n",
       "    <tr>\n",
       "      <th>transaction_date</th>\n",
       "      <th></th>\n",
       "    </tr>\n",
       "  </thead>\n",
       "  <tbody>\n",
       "    <tr>\n",
       "      <th>2019-12-01 18:09:43-03:00</th>\n",
       "      <td>update</td>\n",
       "    </tr>\n",
       "    <tr>\n",
       "      <th>2019-04-16 23:08:43-03:00</th>\n",
       "      <td>insert</td>\n",
       "    </tr>\n",
       "    <tr>\n",
       "      <th>2019-04-14 02:51:49-03:00</th>\n",
       "      <td>select</td>\n",
       "    </tr>\n",
       "    <tr>\n",
       "      <th>2019-03-17 20:28:07-03:00</th>\n",
       "      <td>insert</td>\n",
       "    </tr>\n",
       "    <tr>\n",
       "      <th>2019-03-19 04:56:27-03:00</th>\n",
       "      <td>delete</td>\n",
       "    </tr>\n",
       "  </tbody>\n",
       "</table>\n",
       "</div>"
      ],
      "text/plain": [
       "                          transaction_operation\n",
       "transaction_date                               \n",
       "2019-12-01 18:09:43-03:00                update\n",
       "2019-04-16 23:08:43-03:00                insert\n",
       "2019-04-14 02:51:49-03:00                select\n",
       "2019-03-17 20:28:07-03:00                insert\n",
       "2019-03-19 04:56:27-03:00                delete"
      ]
     },
     "execution_count": 26,
     "metadata": {},
     "output_type": "execute_result"
    }
   ],
   "source": [
    "df.head()"
   ]
  },
  {
   "cell_type": "code",
   "execution_count": 27,
   "metadata": {},
   "outputs": [
    {
     "data": {
      "text/html": [
       "<div>\n",
       "<style scoped>\n",
       "    .dataframe tbody tr th:only-of-type {\n",
       "        vertical-align: middle;\n",
       "    }\n",
       "\n",
       "    .dataframe tbody tr th {\n",
       "        vertical-align: top;\n",
       "    }\n",
       "\n",
       "    .dataframe thead th {\n",
       "        text-align: right;\n",
       "    }\n",
       "</style>\n",
       "<table border=\"1\" class=\"dataframe\">\n",
       "  <thead>\n",
       "    <tr style=\"text-align: right;\">\n",
       "      <th></th>\n",
       "      <th>transaction_operation</th>\n",
       "    </tr>\n",
       "    <tr>\n",
       "      <th>transaction_date</th>\n",
       "      <th></th>\n",
       "    </tr>\n",
       "  </thead>\n",
       "  <tbody>\n",
       "    <tr>\n",
       "      <th>2019-12-01 18:00:00-03:00</th>\n",
       "      <td>update</td>\n",
       "    </tr>\n",
       "    <tr>\n",
       "      <th>2019-04-16 23:00:00-03:00</th>\n",
       "      <td>insert</td>\n",
       "    </tr>\n",
       "    <tr>\n",
       "      <th>2019-04-14 02:00:00-03:00</th>\n",
       "      <td>select</td>\n",
       "    </tr>\n",
       "    <tr>\n",
       "      <th>2019-03-17 20:00:00-03:00</th>\n",
       "      <td>insert</td>\n",
       "    </tr>\n",
       "    <tr>\n",
       "      <th>2019-03-19 04:00:00-03:00</th>\n",
       "      <td>delete</td>\n",
       "    </tr>\n",
       "  </tbody>\n",
       "</table>\n",
       "</div>"
      ],
      "text/plain": [
       "                          transaction_operation\n",
       "transaction_date                               \n",
       "2019-12-01 18:00:00-03:00                update\n",
       "2019-04-16 23:00:00-03:00                insert\n",
       "2019-04-14 02:00:00-03:00                select\n",
       "2019-03-17 20:00:00-03:00                insert\n",
       "2019-03-19 04:00:00-03:00                delete"
      ]
     },
     "execution_count": 27,
     "metadata": {},
     "output_type": "execute_result"
    }
   ],
   "source": [
    "# Arredondamento\n",
    "df.index = df.index.floor('1H')\n",
    "df.head()"
   ]
  },
  {
   "cell_type": "code",
   "execution_count": 28,
   "metadata": {},
   "outputs": [
    {
     "data": {
      "text/html": [
       "<div>\n",
       "<style scoped>\n",
       "    .dataframe tbody tr th:only-of-type {\n",
       "        vertical-align: middle;\n",
       "    }\n",
       "\n",
       "    .dataframe tbody tr th {\n",
       "        vertical-align: top;\n",
       "    }\n",
       "\n",
       "    .dataframe thead th {\n",
       "        text-align: right;\n",
       "    }\n",
       "</style>\n",
       "<table border=\"1\" class=\"dataframe\">\n",
       "  <thead>\n",
       "    <tr style=\"text-align: right;\">\n",
       "      <th></th>\n",
       "      <th>transaction_operation</th>\n",
       "      <th>inicio_semana</th>\n",
       "    </tr>\n",
       "    <tr>\n",
       "      <th>transaction_date</th>\n",
       "      <th></th>\n",
       "      <th></th>\n",
       "    </tr>\n",
       "  </thead>\n",
       "  <tbody>\n",
       "    <tr>\n",
       "      <th>2019-12-01 18:00:00-03:00</th>\n",
       "      <td>update</td>\n",
       "      <td>2019-11-25</td>\n",
       "    </tr>\n",
       "    <tr>\n",
       "      <th>2019-04-16 23:00:00-03:00</th>\n",
       "      <td>insert</td>\n",
       "      <td>2019-04-15</td>\n",
       "    </tr>\n",
       "    <tr>\n",
       "      <th>2019-04-14 02:00:00-03:00</th>\n",
       "      <td>select</td>\n",
       "      <td>2019-04-08</td>\n",
       "    </tr>\n",
       "    <tr>\n",
       "      <th>2019-03-17 20:00:00-03:00</th>\n",
       "      <td>insert</td>\n",
       "      <td>2019-03-11</td>\n",
       "    </tr>\n",
       "    <tr>\n",
       "      <th>2019-03-19 04:00:00-03:00</th>\n",
       "      <td>delete</td>\n",
       "      <td>2019-03-18</td>\n",
       "    </tr>\n",
       "  </tbody>\n",
       "</table>\n",
       "</div>"
      ],
      "text/plain": [
       "                          transaction_operation inicio_semana\n",
       "transaction_date                                             \n",
       "2019-12-01 18:00:00-03:00                update    2019-11-25\n",
       "2019-04-16 23:00:00-03:00                insert    2019-04-15\n",
       "2019-04-14 02:00:00-03:00                select    2019-04-08\n",
       "2019-03-17 20:00:00-03:00                insert    2019-03-11\n",
       "2019-03-19 04:00:00-03:00                delete    2019-03-18"
      ]
     },
     "execution_count": 28,
     "metadata": {},
     "output_type": "execute_result"
    }
   ],
   "source": [
    "# Comparando datas\n",
    "df['inicio_semana'] = df.index.to_period('W').start_time\n",
    "df.head()"
   ]
  },
  {
   "cell_type": "code",
   "execution_count": 29,
   "metadata": {},
   "outputs": [
    {
     "data": {
      "text/html": [
       "<div>\n",
       "<style scoped>\n",
       "    .dataframe tbody tr th:only-of-type {\n",
       "        vertical-align: middle;\n",
       "    }\n",
       "\n",
       "    .dataframe tbody tr th {\n",
       "        vertical-align: top;\n",
       "    }\n",
       "\n",
       "    .dataframe thead th {\n",
       "        text-align: right;\n",
       "    }\n",
       "</style>\n",
       "<table border=\"1\" class=\"dataframe\">\n",
       "  <thead>\n",
       "    <tr style=\"text-align: right;\">\n",
       "      <th></th>\n",
       "      <th>transaction_operation</th>\n",
       "      <th>inicio_semana</th>\n",
       "      <th>inicio_prox_semana</th>\n",
       "    </tr>\n",
       "    <tr>\n",
       "      <th>transaction_date</th>\n",
       "      <th></th>\n",
       "      <th></th>\n",
       "      <th></th>\n",
       "    </tr>\n",
       "  </thead>\n",
       "  <tbody>\n",
       "    <tr>\n",
       "      <th>2019-12-01 18:00:00-03:00</th>\n",
       "      <td>update</td>\n",
       "      <td>2019-11-25</td>\n",
       "      <td>2019-12-02</td>\n",
       "    </tr>\n",
       "    <tr>\n",
       "      <th>2019-04-16 23:00:00-03:00</th>\n",
       "      <td>insert</td>\n",
       "      <td>2019-04-15</td>\n",
       "      <td>2019-04-22</td>\n",
       "    </tr>\n",
       "    <tr>\n",
       "      <th>2019-04-14 02:00:00-03:00</th>\n",
       "      <td>select</td>\n",
       "      <td>2019-04-08</td>\n",
       "      <td>2019-04-15</td>\n",
       "    </tr>\n",
       "    <tr>\n",
       "      <th>2019-03-17 20:00:00-03:00</th>\n",
       "      <td>insert</td>\n",
       "      <td>2019-03-11</td>\n",
       "      <td>2019-03-18</td>\n",
       "    </tr>\n",
       "    <tr>\n",
       "      <th>2019-03-19 04:00:00-03:00</th>\n",
       "      <td>delete</td>\n",
       "      <td>2019-03-18</td>\n",
       "      <td>2019-03-25</td>\n",
       "    </tr>\n",
       "  </tbody>\n",
       "</table>\n",
       "</div>"
      ],
      "text/plain": [
       "                          transaction_operation inicio_semana  \\\n",
       "transaction_date                                                \n",
       "2019-12-01 18:00:00-03:00                update    2019-11-25   \n",
       "2019-04-16 23:00:00-03:00                insert    2019-04-15   \n",
       "2019-04-14 02:00:00-03:00                select    2019-04-08   \n",
       "2019-03-17 20:00:00-03:00                insert    2019-03-11   \n",
       "2019-03-19 04:00:00-03:00                delete    2019-03-18   \n",
       "\n",
       "                          inicio_prox_semana  \n",
       "transaction_date                              \n",
       "2019-12-01 18:00:00-03:00         2019-12-02  \n",
       "2019-04-16 23:00:00-03:00         2019-04-22  \n",
       "2019-04-14 02:00:00-03:00         2019-04-15  \n",
       "2019-03-17 20:00:00-03:00         2019-03-18  \n",
       "2019-03-19 04:00:00-03:00         2019-03-25  "
      ]
     },
     "execution_count": 29,
     "metadata": {},
     "output_type": "execute_result"
    }
   ],
   "source": [
    "df['inicio_prox_semana'] = df['inicio_semana'] + pd.DateOffset(weeks=1)\n",
    "df.head()"
   ]
  },
  {
   "cell_type": "code",
   "execution_count": 30,
   "metadata": {},
   "outputs": [
    {
     "data": {
      "text/plain": [
       "DatetimeIndex(['2020-05-21 02:48:40.236149', '2020-05-22 02:48:40.236149',\n",
       "               '2020-05-23 02:48:40.236149', '2020-05-24 02:48:40.236149',\n",
       "               '2020-05-25 02:48:40.236149', '2020-05-26 02:48:40.236149',\n",
       "               '2020-05-27 02:48:40.236149', '2020-05-28 02:48:40.236149',\n",
       "               '2020-05-29 02:48:40.236149', '2020-05-30 02:48:40.236149'],\n",
       "              dtype='datetime64[ns]', freq='D')"
      ]
     },
     "execution_count": 30,
     "metadata": {},
     "output_type": "execute_result"
    }
   ],
   "source": [
    "# Faixas de datas\n",
    "pd.date_range(dt.datetime.now(), periods=10, freq='D')"
   ]
  },
  {
   "cell_type": "code",
   "execution_count": 31,
   "metadata": {},
   "outputs": [
    {
     "data": {
      "text/plain": [
       "DatetimeIndex(['2020-05-24 02:49:03.762162', '2020-05-31 02:49:03.762162',\n",
       "               '2020-06-07 02:49:03.762162', '2020-06-14 02:49:03.762162',\n",
       "               '2020-06-21 02:49:03.762162', '2020-06-28 02:49:03.762162'],\n",
       "              dtype='datetime64[ns]', freq='W-SUN')"
      ]
     },
     "execution_count": 31,
     "metadata": {},
     "output_type": "execute_result"
    }
   ],
   "source": [
    "pd.date_range(dt.datetime.now(), dt.datetime(2020, 6, 30), freq='W')"
   ]
  },
  {
   "cell_type": "code",
   "execution_count": null,
   "metadata": {},
   "outputs": [],
   "source": []
  }
 ],
 "metadata": {
  "kernelspec": {
   "display_name": "Python 3",
   "language": "python",
   "name": "python3"
  },
  "language_info": {
   "codemirror_mode": {
    "name": "ipython",
    "version": 3
   },
   "file_extension": ".py",
   "mimetype": "text/x-python",
   "name": "python",
   "nbconvert_exporter": "python",
   "pygments_lexer": "ipython3",
   "version": "3.8.2"
  }
 },
 "nbformat": 4,
 "nbformat_minor": 4
}
